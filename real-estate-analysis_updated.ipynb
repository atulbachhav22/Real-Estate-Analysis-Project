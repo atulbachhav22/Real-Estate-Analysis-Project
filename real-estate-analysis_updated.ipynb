{
 "cells": [
  {
   "cell_type": "code",
   "execution_count": 49,
   "metadata": {},
   "outputs": [],
   "source": [
    "import pandas as pd  \n",
    "import os                \n",
    "from datetime import datetime\n",
    "import time\n",
    "import matplotlib.pyplot as plt\n",
    "from math import sin, cos, tan\n",
    "import matplotlib.dates as mdates"
   ]
  },
  {
   "cell_type": "markdown",
   "metadata": {},
   "source": [
    "#### check the data structure of all the files "
   ]
  },
  {
   "cell_type": "code",
   "execution_count": 51,
   "metadata": {},
   "outputs": [
    {
     "name": "stdout",
     "output_type": "stream",
     "text": [
      "DataFrame 14 structure:\n",
      "<class 'pandas.core.frame.DataFrame'>\n",
      "RangeIndex: 11313 entries, 0 to 11312\n",
      "Data columns (total 18 columns):\n",
      " #   Column                  Non-Null Count  Dtype \n",
      "---  ------                  --------------  ----- \n",
      " 0   MLS #                   11313 non-null  object\n",
      " 1   Class                   11313 non-null  object\n",
      " 2   Property Type           11313 non-null  object\n",
      " 3   Address                 11313 non-null  object\n",
      " 4   City                    11313 non-null  object\n",
      " 5   Zip                     11313 non-null  object\n",
      " 6   Neighborhood            597 non-null    object\n",
      " 7   Subdivision             10258 non-null  object\n",
      " 8   Bedrooms                11313 non-null  int64 \n",
      " 9   Total Baths             11313 non-null  int64 \n",
      " 10  Total Living Area SqFt  11313 non-null  object\n",
      " 11  Acres                   10844 non-null  object\n",
      " 12  Year Built              11313 non-null  int64 \n",
      " 13  List Date               11313 non-null  object\n",
      " 14  Closing Date            11313 non-null  object\n",
      " 15  Days On Market          11313 non-null  int64 \n",
      " 16  List Price              11313 non-null  object\n",
      " 17  Sold Price              11313 non-null  object\n",
      "dtypes: int64(4), object(14)\n",
      "memory usage: 1.6+ MB\n",
      "\n",
      "---\n",
      "\n",
      "DataFrame 14 structure:\n",
      "<class 'pandas.core.frame.DataFrame'>\n",
      "RangeIndex: 14863 entries, 0 to 14862\n",
      "Data columns (total 18 columns):\n",
      " #   Column                  Non-Null Count  Dtype  \n",
      "---  ------                  --------------  -----  \n",
      " 0   MLS #                   14863 non-null  object \n",
      " 1   Class                   14863 non-null  object \n",
      " 2   Property Type           14863 non-null  object \n",
      " 3   Address                 14863 non-null  object \n",
      " 4   City                    14863 non-null  object \n",
      " 5   Zip                     14860 non-null  object \n",
      " 6   Neighborhood            671 non-null    object \n",
      " 7   Subdivision             13613 non-null  object \n",
      " 8   Bedrooms                14862 non-null  float64\n",
      " 9   Total Baths             14863 non-null  int64  \n",
      " 10  Total Living Area SqFt  14863 non-null  object \n",
      " 11  Acres                   14258 non-null  object \n",
      " 12  Year Built              14862 non-null  float64\n",
      " 13  List Date               14863 non-null  object \n",
      " 14  Closing Date            14863 non-null  object \n",
      " 15  Days On Market          14863 non-null  int64  \n",
      " 16  List Price              14863 non-null  object \n",
      " 17  Sold Price              14863 non-null  object \n",
      "dtypes: float64(2), int64(2), object(14)\n",
      "memory usage: 2.0+ MB\n",
      "\n",
      "---\n",
      "\n",
      "DataFrame 14 structure:\n",
      "<class 'pandas.core.frame.DataFrame'>\n",
      "RangeIndex: 14694 entries, 0 to 14693\n",
      "Data columns (total 18 columns):\n",
      " #   Column                  Non-Null Count  Dtype \n",
      "---  ------                  --------------  ----- \n",
      " 0   MLS #                   14694 non-null  object\n",
      " 1   Class                   14694 non-null  object\n",
      " 2   Property Type           14694 non-null  object\n",
      " 3   Address                 14694 non-null  object\n",
      " 4   City                    14694 non-null  object\n",
      " 5   Zip                     14691 non-null  object\n",
      " 6   Neighborhood            631 non-null    object\n",
      " 7   Subdivision             13231 non-null  object\n",
      " 8   Bedrooms                14694 non-null  int64 \n",
      " 9   Total Baths             14694 non-null  int64 \n",
      " 10  Total Living Area SqFt  14694 non-null  object\n",
      " 11  Acres                   13894 non-null  object\n",
      " 12  Year Built              14694 non-null  int64 \n",
      " 13  List Date               14694 non-null  object\n",
      " 14  Closing Date            14694 non-null  object\n",
      " 15  Days On Market          14694 non-null  int64 \n",
      " 16  List Price              14694 non-null  object\n",
      " 17  Sold Price              14694 non-null  object\n",
      "dtypes: int64(4), object(14)\n",
      "memory usage: 2.0+ MB\n",
      "\n",
      "---\n",
      "\n",
      "DataFrame 14 structure:\n",
      "<class 'pandas.core.frame.DataFrame'>\n",
      "RangeIndex: 14188 entries, 0 to 14187\n",
      "Data columns (total 18 columns):\n",
      " #   Column                  Non-Null Count  Dtype \n",
      "---  ------                  --------------  ----- \n",
      " 0   MLS #                   14188 non-null  object\n",
      " 1   Class                   14188 non-null  object\n",
      " 2   Property Type           14188 non-null  object\n",
      " 3   Address                 14188 non-null  object\n",
      " 4   City                    14188 non-null  object\n",
      " 5   Zip                     14186 non-null  object\n",
      " 6   Neighborhood            561 non-null    object\n",
      " 7   Subdivision             12810 non-null  object\n",
      " 8   Bedrooms                14188 non-null  int64 \n",
      " 9   Total Baths             14188 non-null  int64 \n",
      " 10  Total Living Area SqFt  14188 non-null  object\n",
      " 11  Acres                   13493 non-null  object\n",
      " 12  Year Built              14188 non-null  int64 \n",
      " 13  List Date               14188 non-null  object\n",
      " 14  Closing Date            14188 non-null  object\n",
      " 15  Days On Market          14188 non-null  int64 \n",
      " 16  List Price              14188 non-null  object\n",
      " 17  Sold Price              14188 non-null  object\n",
      "dtypes: int64(4), object(14)\n",
      "memory usage: 1.9+ MB\n",
      "\n",
      "---\n",
      "\n",
      "DataFrame 14 structure:\n",
      "<class 'pandas.core.frame.DataFrame'>\n",
      "RangeIndex: 11220 entries, 0 to 11219\n",
      "Data columns (total 18 columns):\n",
      " #   Column                  Non-Null Count  Dtype \n",
      "---  ------                  --------------  ----- \n",
      " 0   MLS #                   11220 non-null  object\n",
      " 1   Class                   11220 non-null  object\n",
      " 2   Property Type           11220 non-null  object\n",
      " 3   Address                 11220 non-null  object\n",
      " 4   City                    11220 non-null  object\n",
      " 5   Zip                     11213 non-null  object\n",
      " 6   Neighborhood            379 non-null    object\n",
      " 7   Subdivision             10061 non-null  object\n",
      " 8   Bedrooms                11220 non-null  int64 \n",
      " 9   Total Baths             11220 non-null  int64 \n",
      " 10  Total Living Area SqFt  11220 non-null  object\n",
      " 11  Acres                   10628 non-null  object\n",
      " 12  Year Built              11220 non-null  int64 \n",
      " 13  List Date               11220 non-null  object\n",
      " 14  Closing Date            11220 non-null  object\n",
      " 15  Days On Market          11220 non-null  int64 \n",
      " 16  List Price              11220 non-null  object\n",
      " 17  Sold Price              11220 non-null  object\n",
      "dtypes: int64(4), object(14)\n",
      "memory usage: 1.5+ MB\n",
      "\n",
      "---\n",
      "\n",
      "DataFrame 14 structure:\n",
      "<class 'pandas.core.frame.DataFrame'>\n",
      "RangeIndex: 14214 entries, 0 to 14213\n",
      "Data columns (total 18 columns):\n",
      " #   Column                  Non-Null Count  Dtype \n",
      "---  ------                  --------------  ----- \n",
      " 0   MLS #                   14214 non-null  object\n",
      " 1   Class                   14214 non-null  object\n",
      " 2   Property Type           14214 non-null  object\n",
      " 3   Address                 14214 non-null  object\n",
      " 4   City                    14214 non-null  object\n",
      " 5   Zip                     14211 non-null  object\n",
      " 6   Neighborhood            559 non-null    object\n",
      " 7   Subdivision             12843 non-null  object\n",
      " 8   Bedrooms                14214 non-null  int64 \n",
      " 9   Total Baths             14214 non-null  int64 \n",
      " 10  Total Living Area SqFt  14214 non-null  object\n",
      " 11  Acres                   13441 non-null  object\n",
      " 12  Year Built              14214 non-null  int64 \n",
      " 13  List Date               14214 non-null  object\n",
      " 14  Closing Date            14214 non-null  object\n",
      " 15  Days On Market          14214 non-null  int64 \n",
      " 16  List Price              14214 non-null  object\n",
      " 17  Sold Price              14214 non-null  object\n",
      "dtypes: int64(4), object(14)\n",
      "memory usage: 2.0+ MB\n",
      "\n",
      "---\n",
      "\n",
      "DataFrame 14 structure:\n",
      "<class 'pandas.core.frame.DataFrame'>\n",
      "RangeIndex: 13338 entries, 0 to 13337\n",
      "Data columns (total 18 columns):\n",
      " #   Column                  Non-Null Count  Dtype \n",
      "---  ------                  --------------  ----- \n",
      " 0   MLS #                   13338 non-null  object\n",
      " 1   Class                   13338 non-null  object\n",
      " 2   Property Type           13338 non-null  object\n",
      " 3   Address                 13338 non-null  object\n",
      " 4   City                    13338 non-null  object\n",
      " 5   Zip                     13334 non-null  object\n",
      " 6   Neighborhood            485 non-null    object\n",
      " 7   Subdivision             11880 non-null  object\n",
      " 8   Bedrooms                13338 non-null  int64 \n",
      " 9   Total Baths             13338 non-null  int64 \n",
      " 10  Total Living Area SqFt  13338 non-null  object\n",
      " 11  Acres                   12511 non-null  object\n",
      " 12  Year Built              13338 non-null  int64 \n",
      " 13  List Date               13338 non-null  object\n",
      " 14  Closing Date            13338 non-null  object\n",
      " 15  Days On Market          13338 non-null  int64 \n",
      " 16  List Price              13338 non-null  object\n",
      " 17  Sold Price              13338 non-null  object\n",
      "dtypes: int64(4), object(14)\n",
      "memory usage: 1.8+ MB\n",
      "\n",
      "---\n",
      "\n",
      "DataFrame 14 structure:\n",
      "<class 'pandas.core.frame.DataFrame'>\n",
      "RangeIndex: 10204 entries, 0 to 10203\n",
      "Data columns (total 18 columns):\n",
      " #   Column                  Non-Null Count  Dtype \n",
      "---  ------                  --------------  ----- \n",
      " 0   MLS #                   10204 non-null  object\n",
      " 1   Class                   10204 non-null  object\n",
      " 2   Property Type           10204 non-null  object\n",
      " 3   Address                 10204 non-null  object\n",
      " 4   City                    10204 non-null  object\n",
      " 5   Zip                     10203 non-null  object\n",
      " 6   Neighborhood            368 non-null    object\n",
      " 7   Subdivision             9143 non-null   object\n",
      " 8   Bedrooms                10204 non-null  int64 \n",
      " 9   Total Baths             10204 non-null  int64 \n",
      " 10  Total Living Area SqFt  10204 non-null  object\n",
      " 11  Acres                   9612 non-null   object\n",
      " 12  Year Built              10204 non-null  int64 \n",
      " 13  List Date               10204 non-null  object\n",
      " 14  Closing Date            10204 non-null  object\n",
      " 15  Days On Market          10204 non-null  int64 \n",
      " 16  List Price              10204 non-null  object\n",
      " 17  Sold Price              10204 non-null  object\n",
      "dtypes: int64(4), object(14)\n",
      "memory usage: 1.4+ MB\n",
      "\n",
      "---\n",
      "\n",
      "DataFrame 14 structure:\n",
      "<class 'pandas.core.frame.DataFrame'>\n",
      "RangeIndex: 9499 entries, 0 to 9498\n",
      "Data columns (total 18 columns):\n",
      " #   Column                  Non-Null Count  Dtype \n",
      "---  ------                  --------------  ----- \n",
      " 0   MLS #                   9499 non-null   object\n",
      " 1   Class                   9499 non-null   object\n",
      " 2   Property Type           9499 non-null   object\n",
      " 3   Address                 9499 non-null   object\n",
      " 4   City                    9499 non-null   object\n",
      " 5   Zip                     9494 non-null   object\n",
      " 6   Neighborhood            330 non-null    object\n",
      " 7   Subdivision             8497 non-null   object\n",
      " 8   Bedrooms                9499 non-null   int64 \n",
      " 9   Total Baths             9499 non-null   int64 \n",
      " 10  Total Living Area SqFt  9499 non-null   object\n",
      " 11  Acres                   8968 non-null   object\n",
      " 12  Year Built              9499 non-null   int64 \n",
      " 13  List Date               9499 non-null   object\n",
      " 14  Closing Date            9499 non-null   object\n",
      " 15  Days On Market          9499 non-null   int64 \n",
      " 16  List Price              9499 non-null   object\n",
      " 17  Sold Price              9499 non-null   object\n",
      "dtypes: int64(4), object(14)\n",
      "memory usage: 1.3+ MB\n",
      "\n",
      "---\n",
      "\n",
      "DataFrame 14 structure:\n",
      "<class 'pandas.core.frame.DataFrame'>\n",
      "RangeIndex: 12931 entries, 0 to 12930\n",
      "Data columns (total 18 columns):\n",
      " #   Column                  Non-Null Count  Dtype \n",
      "---  ------                  --------------  ----- \n",
      " 0   MLS #                   12931 non-null  object\n",
      " 1   Class                   12931 non-null  object\n",
      " 2   Property Type           12931 non-null  object\n",
      " 3   Address                 12931 non-null  object\n",
      " 4   City                    12931 non-null  object\n",
      " 5   Zip                     12929 non-null  object\n",
      " 6   Neighborhood            483 non-null    object\n",
      " 7   Subdivision             11367 non-null  object\n",
      " 8   Bedrooms                12931 non-null  int64 \n",
      " 9   Total Baths             12931 non-null  int64 \n",
      " 10  Total Living Area SqFt  12931 non-null  object\n",
      " 11  Acres                   11984 non-null  object\n",
      " 12  Year Built              12931 non-null  int64 \n",
      " 13  List Date               12931 non-null  object\n",
      " 14  Closing Date            12931 non-null  object\n",
      " 15  Days On Market          12931 non-null  int64 \n",
      " 16  List Price              12931 non-null  object\n",
      " 17  Sold Price              12931 non-null  object\n",
      "dtypes: int64(4), object(14)\n",
      "memory usage: 1.8+ MB\n",
      "\n",
      "---\n",
      "\n",
      "DataFrame 14 structure:\n",
      "<class 'pandas.core.frame.DataFrame'>\n",
      "RangeIndex: 11927 entries, 0 to 11926\n",
      "Data columns (total 18 columns):\n",
      " #   Column                  Non-Null Count  Dtype \n",
      "---  ------                  --------------  ----- \n",
      " 0   MLS #                   11927 non-null  object\n",
      " 1   Class                   11927 non-null  object\n",
      " 2   Property Type           11927 non-null  object\n",
      " 3   Address                 11927 non-null  object\n",
      " 4   City                    11927 non-null  object\n",
      " 5   Zip                     11923 non-null  object\n",
      " 6   Neighborhood            382 non-null    object\n",
      " 7   Subdivision             10268 non-null  object\n",
      " 8   Bedrooms                11927 non-null  int64 \n",
      " 9   Total Baths             11927 non-null  int64 \n",
      " 10  Total Living Area SqFt  11927 non-null  object\n",
      " 11  Acres                   10824 non-null  object\n",
      " 12  Year Built              11927 non-null  int64 \n",
      " 13  List Date               11927 non-null  object\n",
      " 14  Closing Date            11927 non-null  object\n",
      " 15  Days On Market          11927 non-null  int64 \n",
      " 16  List Price              11927 non-null  object\n",
      " 17  Sold Price              11927 non-null  object\n",
      "dtypes: int64(4), object(14)\n",
      "memory usage: 1.6+ MB\n",
      "\n",
      "---\n",
      "\n",
      "DataFrame 14 structure:\n",
      "<class 'pandas.core.frame.DataFrame'>\n",
      "RangeIndex: 9957 entries, 0 to 9956\n",
      "Data columns (total 18 columns):\n",
      " #   Column                  Non-Null Count  Dtype  \n",
      "---  ------                  --------------  -----  \n",
      " 0   MLS #                   9957 non-null   object \n",
      " 1   Class                   9957 non-null   object \n",
      " 2   Property Type           9957 non-null   object \n",
      " 3   Address                 9957 non-null   object \n",
      " 4   City                    9957 non-null   object \n",
      " 5   Zip                     9954 non-null   object \n",
      " 6   Neighborhood            342 non-null    object \n",
      " 7   Subdivision             8612 non-null   object \n",
      " 8   Bedrooms                9944 non-null   float64\n",
      " 9   Total Baths             9957 non-null   int64  \n",
      " 10  Total Living Area SqFt  9957 non-null   object \n",
      " 11  Acres                   8998 non-null   object \n",
      " 12  Year Built              9945 non-null   float64\n",
      " 13  List Date               9957 non-null   object \n",
      " 14  Closing Date            9957 non-null   object \n",
      " 15  Days On Market          9957 non-null   int64  \n",
      " 16  List Price              9957 non-null   object \n",
      " 17  Sold Price              9957 non-null   object \n",
      "dtypes: float64(2), int64(2), object(14)\n",
      "memory usage: 1.4+ MB\n",
      "\n",
      "---\n",
      "\n",
      "DataFrame 14 structure:\n",
      "<class 'pandas.core.frame.DataFrame'>\n",
      "RangeIndex: 9792 entries, 0 to 9791\n",
      "Data columns (total 18 columns):\n",
      " #   Column                  Non-Null Count  Dtype  \n",
      "---  ------                  --------------  -----  \n",
      " 0   MLS #                   9792 non-null   object \n",
      " 1   Class                   9792 non-null   object \n",
      " 2   Property Type           9792 non-null   object \n",
      " 3   Address                 9792 non-null   object \n",
      " 4   City                    9792 non-null   object \n",
      " 5   Zip                     9787 non-null   float64\n",
      " 6   Neighborhood            388 non-null    object \n",
      " 7   Subdivision             8679 non-null   object \n",
      " 8   Bedrooms                9789 non-null   float64\n",
      " 9   Total Baths             9792 non-null   int64  \n",
      " 10  Total Living Area SqFt  9792 non-null   object \n",
      " 11  Acres                   8795 non-null   object \n",
      " 12  Year Built              9789 non-null   float64\n",
      " 13  List Date               9792 non-null   object \n",
      " 14  Closing Date            9792 non-null   object \n",
      " 15  Days On Market          9792 non-null   int64  \n",
      " 16  List Price              9792 non-null   object \n",
      " 17  Sold Price              9792 non-null   object \n",
      "dtypes: float64(3), int64(2), object(13)\n",
      "memory usage: 1.3+ MB\n",
      "\n",
      "---\n",
      "\n",
      "DataFrame 14 structure:\n",
      "<class 'pandas.core.frame.DataFrame'>\n",
      "RangeIndex: 3998 entries, 0 to 3997\n",
      "Data columns (total 18 columns):\n",
      " #   Column                  Non-Null Count  Dtype  \n",
      "---  ------                  --------------  -----  \n",
      " 0   MLS #                   3998 non-null   object \n",
      " 1   Class                   3998 non-null   object \n",
      " 2   Property Type           3998 non-null   object \n",
      " 3   Address                 3998 non-null   object \n",
      " 4   City                    3998 non-null   object \n",
      " 5   Zip                     3998 non-null   int64  \n",
      " 6   Neighborhood            178 non-null    object \n",
      " 7   Subdivision             3725 non-null   object \n",
      " 8   Bedrooms                3997 non-null   float64\n",
      " 9   Total Baths             3998 non-null   int64  \n",
      " 10  Total Living Area SqFt  3998 non-null   object \n",
      " 11  Acres                   3726 non-null   object \n",
      " 12  Year Built              3997 non-null   float64\n",
      " 13  List Date               3998 non-null   object \n",
      " 14  Closing Date            3998 non-null   object \n",
      " 15  Days On Market          3998 non-null   int64  \n",
      " 16  List Price              3998 non-null   object \n",
      " 17  Sold Price              3998 non-null   object \n",
      "dtypes: float64(2), int64(3), object(13)\n",
      "memory usage: 562.3+ KB\n",
      "\n",
      "---\n",
      "\n"
     ]
    }
   ],
   "source": [
    "\n",
    "# loop through directory where your files are located\n",
    "directory = './Data/'\n",
    "dfs = []\n",
    "\n",
    "#loop through all the files in a data directory\n",
    "for filename in os.listdir(directory):\n",
    "    #ignore a file start with the name weekly, thats the mortageg rates data \n",
    "    if not filename.startswith(\"weekly\"):\n",
    "        #read file path \n",
    "        filepath = os.path.join(directory, filename)\n",
    "        #read a file in a dataframe\n",
    "        df = pd.read_csv(filepath)\n",
    "        #append the file in dictionary \n",
    "        print(f\"DataFrame {i} structure:\")\n",
    "        df.info()\n",
    "        print(\"\\n---\\n\")\n",
    "              \n",
    "\n"
   ]
  },
  {
   "cell_type": "markdown",
   "metadata": {},
   "source": [
    "##### Column structure is consistent across all DFs. \n",
    "##### Dataframe 2 (2021q2) contains the largest set of data at 14862 entries.\n",
    "##### Dataframe 3 (2021q3) comes in at close second at 14693 entries. \n",
    "##### 18 columns for each Df. \n"
   ]
  },
  {
   "cell_type": "code",
   "execution_count": 52,
   "metadata": {},
   "outputs": [
    {
     "data": {
      "text/html": [
       "<div>\n",
       "<style scoped>\n",
       "    .dataframe tbody tr th:only-of-type {\n",
       "        vertical-align: middle;\n",
       "    }\n",
       "\n",
       "    .dataframe tbody tr th {\n",
       "        vertical-align: top;\n",
       "    }\n",
       "\n",
       "    .dataframe thead th {\n",
       "        text-align: right;\n",
       "    }\n",
       "</style>\n",
       "<table border=\"1\" class=\"dataframe\">\n",
       "  <thead>\n",
       "    <tr style=\"text-align: right;\">\n",
       "      <th></th>\n",
       "      <th>MLS #</th>\n",
       "      <th>Class</th>\n",
       "      <th>Property Type</th>\n",
       "      <th>Address</th>\n",
       "      <th>City</th>\n",
       "      <th>Zip</th>\n",
       "      <th>Neighborhood</th>\n",
       "      <th>Subdivision</th>\n",
       "      <th>Bedrooms</th>\n",
       "      <th>Total Baths</th>\n",
       "      <th>Total Living Area SqFt</th>\n",
       "      <th>Acres</th>\n",
       "      <th>Year Built</th>\n",
       "      <th>List Date</th>\n",
       "      <th>Closing Date</th>\n",
       "      <th>Days On Market</th>\n",
       "      <th>List Price</th>\n",
       "      <th>Sold Price</th>\n",
       "    </tr>\n",
       "  </thead>\n",
       "  <tbody>\n",
       "    <tr>\n",
       "      <th>0</th>\n",
       "      <td>LP649830</td>\n",
       "      <td>RESIDENTIAL</td>\n",
       "      <td>Single Family Residence</td>\n",
       "      <td>2263 Shaw Rd Extension</td>\n",
       "      <td>Fayetteville</td>\n",
       "      <td>28311</td>\n",
       "      <td>NaN</td>\n",
       "      <td>NaN</td>\n",
       "      <td>3.0</td>\n",
       "      <td>1</td>\n",
       "      <td>0</td>\n",
       "      <td>NaN</td>\n",
       "      <td>1977.0</td>\n",
       "      <td>2/9/2021</td>\n",
       "      <td>3/11/2021</td>\n",
       "      <td>9</td>\n",
       "      <td>$79,900</td>\n",
       "      <td>$79</td>\n",
       "    </tr>\n",
       "    <tr>\n",
       "      <th>1</th>\n",
       "      <td>2354950</td>\n",
       "      <td>RESIDENTIAL</td>\n",
       "      <td>Single Family Residence</td>\n",
       "      <td>97 Allie Clay Road</td>\n",
       "      <td>Roxboro</td>\n",
       "      <td>27573</td>\n",
       "      <td>NaN</td>\n",
       "      <td>Not in a Subdivision</td>\n",
       "      <td>3.0</td>\n",
       "      <td>1</td>\n",
       "      <td>1,118</td>\n",
       "      <td>.51-.75 Acres</td>\n",
       "      <td>1934.0</td>\n",
       "      <td>11/22/2020</td>\n",
       "      <td>1/12/2021</td>\n",
       "      <td>13</td>\n",
       "      <td>$40,000</td>\n",
       "      <td>$15,000</td>\n",
       "    </tr>\n",
       "    <tr>\n",
       "      <th>2</th>\n",
       "      <td>LP630668</td>\n",
       "      <td>RESIDENTIAL</td>\n",
       "      <td>Manufactured</td>\n",
       "      <td>146 Ralph Hunt Boulevard</td>\n",
       "      <td>Orrum</td>\n",
       "      <td>28369</td>\n",
       "      <td>NaN</td>\n",
       "      <td>NaN</td>\n",
       "      <td>3.0</td>\n",
       "      <td>2</td>\n",
       "      <td>0</td>\n",
       "      <td>NaN</td>\n",
       "      <td>1995.0</td>\n",
       "      <td>4/21/2020</td>\n",
       "      <td>2/1/2021</td>\n",
       "      <td>254</td>\n",
       "      <td>$36,000</td>\n",
       "      <td>$17,000</td>\n",
       "    </tr>\n",
       "    <tr>\n",
       "      <th>3</th>\n",
       "      <td>LP630661</td>\n",
       "      <td>RESIDENTIAL</td>\n",
       "      <td>Manufactured</td>\n",
       "      <td>163 Ralph Hunt Boulevard</td>\n",
       "      <td>Orrum</td>\n",
       "      <td>28369</td>\n",
       "      <td>NaN</td>\n",
       "      <td>NaN</td>\n",
       "      <td>3.0</td>\n",
       "      <td>2</td>\n",
       "      <td>0</td>\n",
       "      <td>NaN</td>\n",
       "      <td>1998.0</td>\n",
       "      <td>4/21/2020</td>\n",
       "      <td>2/1/2021</td>\n",
       "      <td>254</td>\n",
       "      <td>$29,000</td>\n",
       "      <td>$17,000</td>\n",
       "    </tr>\n",
       "    <tr>\n",
       "      <th>4</th>\n",
       "      <td>LP624150</td>\n",
       "      <td>RESIDENTIAL</td>\n",
       "      <td>Single Family Residence</td>\n",
       "      <td>405 Mcleod Road</td>\n",
       "      <td>Red Springs</td>\n",
       "      <td>28377</td>\n",
       "      <td>NaN</td>\n",
       "      <td>NaN</td>\n",
       "      <td>2.0</td>\n",
       "      <td>1</td>\n",
       "      <td>0</td>\n",
       "      <td>NaN</td>\n",
       "      <td>1940.0</td>\n",
       "      <td>1/7/2020</td>\n",
       "      <td>1/25/2021</td>\n",
       "      <td>357</td>\n",
       "      <td>$22,000</td>\n",
       "      <td>$18,500</td>\n",
       "    </tr>\n",
       "  </tbody>\n",
       "</table>\n",
       "</div>"
      ],
      "text/plain": [
       "      MLS #        Class            Property Type                   Address  \\\n",
       "0  LP649830  RESIDENTIAL  Single Family Residence    2263 Shaw Rd Extension   \n",
       "1   2354950  RESIDENTIAL  Single Family Residence        97 Allie Clay Road   \n",
       "2  LP630668  RESIDENTIAL             Manufactured  146 Ralph Hunt Boulevard   \n",
       "3  LP630661  RESIDENTIAL             Manufactured  163 Ralph Hunt Boulevard   \n",
       "4  LP624150  RESIDENTIAL  Single Family Residence           405 Mcleod Road   \n",
       "\n",
       "           City    Zip Neighborhood           Subdivision  Bedrooms  \\\n",
       "0  Fayetteville  28311          NaN                   NaN       3.0   \n",
       "1       Roxboro  27573          NaN  Not in a Subdivision       3.0   \n",
       "2         Orrum  28369          NaN                   NaN       3.0   \n",
       "3         Orrum  28369          NaN                   NaN       3.0   \n",
       "4   Red Springs  28377          NaN                   NaN       2.0   \n",
       "\n",
       "   Total Baths Total Living Area SqFt          Acres  Year Built   List Date  \\\n",
       "0            1                      0            NaN      1977.0    2/9/2021   \n",
       "1            1                  1,118  .51-.75 Acres      1934.0  11/22/2020   \n",
       "2            2                      0            NaN      1995.0   4/21/2020   \n",
       "3            2                      0            NaN      1998.0   4/21/2020   \n",
       "4            1                      0            NaN      1940.0    1/7/2020   \n",
       "\n",
       "  Closing Date  Days On Market List Price Sold Price  \n",
       "0    3/11/2021               9    $79,900        $79  \n",
       "1    1/12/2021              13    $40,000    $15,000  \n",
       "2     2/1/2021             254    $36,000    $17,000  \n",
       "3     2/1/2021             254    $29,000    $17,000  \n",
       "4    1/25/2021             357    $22,000    $18,500  "
      ]
     },
     "execution_count": 52,
     "metadata": {},
     "output_type": "execute_result"
    }
   ],
   "source": [
    "# Directory where your files are located\n",
    "directory = './Data/'\n",
    "dfs = []\n",
    "\n",
    "#loop through all the files in a data directory\n",
    "for filename in os.listdir(directory):\n",
    "    #ignore a file start with the name weekly, thats the mortageg rates data \n",
    "    if not filename.startswith(\"weekly\"):\n",
    "        #read file path \n",
    "        filepath = os.path.join(directory, filename)\n",
    "        #read a file in a dataframe\n",
    "        df = pd.read_csv(filepath)\n",
    "        #append the file in dictionary \n",
    "        dfs.append(df)\n",
    "\n",
    "# Concatenate all DataFrames in the list into a single DataFrame\n",
    "combined_df = pd.concat(dfs, ignore_index=True)    \n",
    "combined_df.head()"
   ]
  },
  {
   "cell_type": "markdown",
   "metadata": {},
   "source": []
  },
  {
   "cell_type": "code",
   "execution_count": null,
   "metadata": {},
   "outputs": [],
   "source": [
    "#Checking how many values are null per column\n",
    "combined_df.isnull().sum()"
   ]
  },
  {
   "cell_type": "code",
   "execution_count": null,
   "metadata": {},
   "outputs": [],
   "source": [
    "#Checking basic structure of df\n",
    "combined_df.shape"
   ]
  },
  {
   "cell_type": "markdown",
   "metadata": {},
   "source": [
    "##### 162138 rows\n",
    "##### 18 columns"
   ]
  },
  {
   "cell_type": "code",
   "execution_count": null,
   "metadata": {},
   "outputs": [],
   "source": [
    "#Checking data types of the columns\n",
    "combined_df.dtypes"
   ]
  },
  {
   "cell_type": "markdown",
   "metadata": {},
   "source": [
    "##### Zipcode should stay as object due to certain areas formatting for zip codes such as 27006-8256\n",
    "##### Total living area sqft is currently an object--Should be a float?\n",
    "##### Should convert year built, list date, closing date to date time format rather than float/objects. \n",
    "##### List price and sold price columns should be converted to floats and have \"$\" stripped for graphing/numerical purposes.\n",
    "##### Acres should be converted to float and have \"Acres\" stripped for same reason as list price. "
   ]
  },
  {
   "cell_type": "code",
   "execution_count": null,
   "metadata": {},
   "outputs": [],
   "source": [
    "\n",
    "# Due the existence of 17 null values in the \"Year Built\" column we should convert these values to floats with a value of \"0\"\n",
    "#   prior to the conversion to datetime to avoid any errors. \n",
    "combined_df['Year Built'] = combined_df['Year Built'].fillna(0).astype(float)\n",
    "#Here I convert the recently converted columns that now contain \"0\" to \"0000\" for a more seamless datetime conversion.\n",
    "#   For now we will assume empty columns contain the value \"0000\". This must be reconsidered for any impact it might have on future analytics. \n",
    "combined_df['Year Built'] = combined_df['Year Built'].replace('0', '0000')\n",
    "\n",
    "# converting \"Year Built\" from float to datetime. For now I am assuming jan 1 for the day/month\n",
    "combined_df['Year Built'] = pd.to_datetime(combined_df['Year Built'], format='%Y', errors='coerce')\n",
    "\n",
    "# converting list date and closing date from str to datetime format. \n",
    "combined_df['List Date'] = pd.to_datetime(combined_df['List Date'], format='%m/%d/%Y')\n",
    "combined_df['Closing Date'] = pd.to_datetime(combined_df['Closing Date'], format='%m/%d/%Y')"
   ]
  },
  {
   "cell_type": "code",
   "execution_count": null,
   "metadata": {},
   "outputs": [],
   "source": [
    "combined_df.dtypes"
   ]
  },
  {
   "cell_type": "code",
   "execution_count": null,
   "metadata": {},
   "outputs": [],
   "source": [
    "combined_df"
   ]
  },
  {
   "cell_type": "markdown",
   "metadata": {},
   "source": [
    "##### I am receiving a key error on List Price and Sold Price and have tried copy pasting among other methods so my assumption is that there might be hidden characters or leading spaces.\n",
    "#####       For this reason I will be renaming the columns manually to ensure they are contingent with our eyes. "
   ]
  },
  {
   "cell_type": "code",
   "execution_count": null,
   "metadata": {},
   "outputs": [],
   "source": [
    "#Obtaining index values of columns. \n",
    "combined_df.info()"
   ]
  },
  {
   "cell_type": "code",
   "execution_count": null,
   "metadata": {},
   "outputs": [],
   "source": [
    "#confirming that index values are correct\n",
    "print(f\"List price should equal {combined_df.columns[16]} and Sold price should equal {combined_df.columns[17]}\")"
   ]
  },
  {
   "cell_type": "code",
   "execution_count": null,
   "metadata": {},
   "outputs": [],
   "source": [
    "combined_df.rename(columns={combined_df.columns[16]: \"List Price\"}, inplace=True)\n",
    "combined_df.rename(columns={combined_df.columns[17]: \"Sold Price\"}, inplace=True)\n",
    "combined_df\n"
   ]
  },
  {
   "cell_type": "code",
   "execution_count": null,
   "metadata": {},
   "outputs": [],
   "source": [
    "combined_df[\"List Price\"] = combined_df[\"List Price\"].str.replace(\"$\", \"\").str.replace(',', '').astype(float)\n",
    "combined_df[\"Sold Price\"] = combined_df[\"Sold Price\"].str.replace(\"$\", \"\").str.replace(',', '').astype(float)\n",
    "\n",
    "combined_df"
   ]
  },
  {
   "cell_type": "markdown",
   "metadata": {},
   "source": [
    "##### List price and sold price have successfully been renamed and converted to floats.\n",
    "#####\n",
    "##### Now I will do the same conversion for acres. \n",
    "##### Since acres is a range value it is not possible to display this in a single column as floats are single numeric values. \n",
    "##### For this reason I will be splitting the acres column into two separate columns, one for min and one for max.  \n",
    "##### We can average these two columns for graphing purposes. "
   ]
  },
  {
   "cell_type": "code",
   "execution_count": null,
   "metadata": {},
   "outputs": [],
   "source": [
    "combined_df.info()"
   ]
  },
  {
   "cell_type": "code",
   "execution_count": null,
   "metadata": {},
   "outputs": [],
   "source": [
    "combined_df.rename(columns={combined_df.columns[11]: \"Acres\"}, inplace=True)\n",
    "#Key value error prevention. It seems some column names contain trailing spaces or hidden characters so i'm just going to do this ahead of time. "
   ]
  },
  {
   "cell_type": "code",
   "execution_count": null,
   "metadata": {},
   "outputs": [],
   "source": [
    "def split_range(range_str):\n",
    "    if isinstance(range_str, str):\n",
    "        range_str = range_str.strip()  # removes leading/trailing whitespace\n",
    "        if range_str.endswith('+'):\n",
    "            range_str = range_str[:-1].strip()  # removes trailing '+' and any whitespace\n",
    "        parts = range_str.split('-')\n",
    "        if len(parts) == 1:\n",
    "            return [float(parts[0]), float('inf')]  # use infinity for upper bound on values such as \"11+\" which is an error I received when creating this function. I think Python assumes 11+ means 11-infinity.\n",
    "        else:\n",
    "            return [float(parts[0]), float(parts[1])]\n",
    "    else:\n",
    "        return [float('nan'), float('nan')]\n",
    "combined_df[['Acres min', 'Acres max']] = combined_df['Acres'].str.replace(' Acres', '').apply(split_range).tolist()"
   ]
  },
  {
   "cell_type": "code",
   "execution_count": null,
   "metadata": {},
   "outputs": [],
   "source": [
    "combined_df"
   ]
  },
  {
   "cell_type": "code",
   "execution_count": null,
   "metadata": {},
   "outputs": [],
   "source": [
    "combined_df.info()"
   ]
  },
  {
   "cell_type": "code",
   "execution_count": null,
   "metadata": {},
   "outputs": [],
   "source": [
    "combined_df[\"Total Living Area SqFt\"] = combined_df[\"Total Living Area SqFt\"].str.replace(\",\", \"\").astype(float)"
   ]
  },
  {
   "cell_type": "markdown",
   "metadata": {},
   "source": [
    "### Creating \"Season\" columns and grouping into the new season columns"
   ]
  },
  {
   "cell_type": "code",
   "execution_count": null,
   "metadata": {},
   "outputs": [],
   "source": [
    "def get_season(date):\n",
    "    if date.month in [3, 4, 5]:\n",
    "        return 'Spring'\n",
    "    elif date.month in [6, 7, 8]:\n",
    "        return 'Summer'\n",
    "    elif date.month in [9, 10, 11]:\n",
    "        return 'Fall'\n",
    "    else:\n",
    "        return 'Winter'\n",
    "\n",
    "combined_df['Season Listed'] = combined_df['List Date'].apply(get_season)\n",
    "combined_df['Season Sold'] = combined_df['Closing Date'].apply(get_season)\n",
    "combined_df"
   ]
  },
  {
   "cell_type": "code",
   "execution_count": null,
   "metadata": {},
   "outputs": [],
   "source": [
    "#MLS is the ID for a property each time it is sold.\n",
    "#Class residential \n",
    "#Property type: Single family residence\n",
    "#Drop address dependent on specific data frames goal\n",
    "#Raleigh as city (first iteration)\n",
    "#Drop zip, neighborhood, subdivision dependent on specific data frames goal\n",
    "#Bedrooms 3, baths 2\n",
    "#Find mean sqft of remaining rows after above changes are made\n",
    "#Then take 10% on both sides. \n",
    "#Drop null acre values (Raleigh contains large amount of null) \n",
    "#Drop year built dependent on specific data frames goal\n",
    "#We'll start with profit \n",
    "#Convert dates to week number\n",
    "\n",
    "#MLS #\tClass\tProperty Type\tAddress\tCity\tZip\tNeighborhood\tSubdivision\tBedrooms\t\n",
    "# Total Baths\tTotal Living Area SqFt\tAcres\tYear Built\tList Date\tClosing Date\t\n",
    "# Days On Market\tList Price\tSold Price\tAcres_min\tAcres_max\n",
    "\n",
    "\n",
    "#MLS #\tClass\tProperty Type\tCity\tBedrooms\t\n",
    "# Total Baths\tTotal Living Area SqFt\tAcres\tYear Built\tList Date\tClosing Date\t\n",
    "# Days On Market\tList Price\tSold Price\tAcres_min\tAcres_max"
   ]
  },
  {
   "cell_type": "markdown",
   "metadata": {},
   "source": [
    "### Graphing List price over time"
   ]
  },
  {
   "cell_type": "code",
   "execution_count": null,
   "metadata": {},
   "outputs": [],
   "source": [
    "#here I am filtering the data frame so that the graph only displays 2021-now. I had some issues while graphing where the graph was going all the way back to 1978 so it is necessary to filter\n",
    "filtered_df = combined_df[(combined_df['List Date'] >= pd.Timestamp('2021-01-01')) & (combined_df['List Date'] <= pd.Timestamp.now())]\n",
    "\n",
    "#here i am grouping the data by months so that it is easier for us to read. When I plotted it without grouping it resulted in a graph that looks like I had given a monkey a pencil and told it to draw the mona lisa.\n",
    "monthly_data_list = filtered_df.resample('M', on='List Date').agg({'List Price': ['sum', 'count']})\n",
    "monthly_data_sold = filtered_df.resample('M', on='List Date').agg({'Sold Price': ['sum', 'count']})\n",
    "monthly_data_list.columns = ['Total List Price', 'Total Properties Listed']\n",
    "monthly_data_sold.columns = ['Total Sale Price', 'Total Properties Listed']\n"
   ]
  },
  {
   "cell_type": "code",
   "execution_count": null,
   "metadata": {},
   "outputs": [],
   "source": [
    "#setting the fig size. had to play around a bit to find a good fit.\n",
    "fig, ax1 = plt.subplots(figsize=(12, 6))\n",
    "\n",
    "# Plot that displays the sum of total sales price by month.\n",
    "color = 'tab:blue'\n",
    "ax1.set_xlabel('Month')\n",
    "ax1.set_ylabel('Sum of Total Sale Price', color=color)\n",
    "ax1.plot(monthly_data_sold.index, monthly_data_sold['Total Sale Price'], color=color, marker='x')\n",
    "ax1.tick_params(axis='y', labelcolor=color)\n",
    "ax1.set_title('Sum of Total List & Sales Prices Per Month from 2021 to Present')\n",
    "\n",
    "\n",
    "\n",
    "# twin axes for the sum of the list prices\n",
    "# telling the program that the axes will be plotted on the same graph. \n",
    "ax2 = ax1.twinx()  \n",
    "color = 'tab:red'\n",
    "ax2.set_ylabel('Sum of Total List Price', color=color)\n",
    "ax2.plot(monthly_data_list.index, monthly_data_list['Total List Price'], color=color, marker='o')\n",
    "ax2.tick_params(axis='y', labelcolor=color)\n",
    "\n",
    "\n",
    "#tightening the layout\n",
    "fig.tight_layout()  \n",
    "print(monthly_data_list)\n",
    "plt.show()"
   ]
  },
  {
   "cell_type": "code",
   "execution_count": null,
   "metadata": {},
   "outputs": [],
   "source": [
    "# bar chart that displays total properties listed per month.\n",
    "fig, sales_volume = plt.subplots(figsize=(12, 6))\n",
    "color = 'tab:blue'\n",
    "sales_volume.set_xlabel('Month')\n",
    "sales_volume.set_ylabel('Total Properties Listed', color=color)\n",
    "sales_volume.bar(monthly_data_list.index, monthly_data_list['Total Properties Listed'], color=color)\n",
    "sales_volume.tick_params(axis='y', labelcolor=color)\n",
    "sales_volume.set_title('Total Properties Listed by Month')\n"
   ]
  },
  {
   "cell_type": "markdown",
   "metadata": {},
   "source": [
    "### Fixing winston-salem vs winston salem rows:"
   ]
  },
  {
   "cell_type": "code",
   "execution_count": null,
   "metadata": {},
   "outputs": [],
   "source": [
    "combined_df = combined_df.replace([\"Winston Salem\"], \"Winston-Salem\")"
   ]
  },
  {
   "cell_type": "code",
   "execution_count": null,
   "metadata": {},
   "outputs": [],
   "source": [
    "combined_df.loc[combined_df[\"City\"] == \"Winston-Salem\"]"
   ]
  },
  {
   "cell_type": "code",
   "execution_count": null,
   "metadata": {},
   "outputs": [],
   "source": [
    "city_counts = combined_df['City'].value_counts()\n",
    "\n",
    "#resetting index to check alphabetically\n",
    "city_counts_df = city_counts.reset_index()\n",
    "#making new column to show occurrences\n",
    "city_counts_df.columns = ['City', 'Occurrences']\n",
    "\n",
    "#sorting alphabetically\n",
    "city_counts_df = city_counts_df.sort_values('City')\n",
    "\n",
    "\n",
    "city_counts_df.to_csv('City_Occurrences.csv', index=False)"
   ]
  },
  {
   "cell_type": "markdown",
   "metadata": {},
   "source": [
    "###### Winston-Salem looks to be the only duplicate city name."
   ]
  },
  {
   "cell_type": "markdown",
   "metadata": {},
   "source": [
    "#### Grouping by City, Zip, Sold Price:\n",
    "#### Grouping by City, Zip, Days on market:"
   ]
  },
  {
   "cell_type": "code",
   "execution_count": null,
   "metadata": {},
   "outputs": [],
   "source": [
    "sold_price_grouped = combined_df[[\"City\", \"Zip\", \"Sold Price\"]].sort_values(by=\"Sold Price\", ascending=True)\n",
    "DaysOnMarket_grouped = combined_df[[\"City\", \"Zip\", \"Days On Market\"]].sort_values(by=\"Days On Market\", ascending=True)"
   ]
  },
  {
   "cell_type": "markdown",
   "metadata": {},
   "source": [
    "### Days on market grouped for all cities/zipcodes:\n",
    "### Sold Price grouped for all cities/zipcodes:"
   ]
  },
  {
   "cell_type": "code",
   "execution_count": null,
   "metadata": {},
   "outputs": [],
   "source": [
    "display(DaysOnMarket_grouped, sold_price_grouped)"
   ]
  },
  {
   "cell_type": "markdown",
   "metadata": {},
   "source": [
    "####  DOM = days on market\n",
    "#### Sold Price = SP"
   ]
  },
  {
   "cell_type": "code",
   "execution_count": null,
   "metadata": {},
   "outputs": [],
   "source": [
    "raleigh_grouped_all = combined_df.loc[combined_df[\"City\"] == \"Raleigh\"]\n",
    "raleigh_grouped_SP = sold_price_grouped.loc[sold_price_grouped[\"City\"] == \"Raleigh\"]\n",
    "raleigh_grouped_DOM = DaysOnMarket_grouped.loc[DaysOnMarket_grouped[\"City\"] == \"Raleigh\"]\n",
    "raleigh_grouped_all\n",
    "\n",
    "fayetteville_grouped_all = combined_df.loc[combined_df[\"City\"] == \"Fayetteville\"]\n",
    "fayetteville_grouped_SP = sold_price_grouped.loc[sold_price_grouped[\"City\"] == \"Fayetteville\"]\n",
    "fayetteville_grouped_DOM = DaysOnMarket_grouped.loc[DaysOnMarket_grouped[\"City\"] == \"Fayetteville\"]\n",
    "fayetteville_grouped_all"
   ]
  },
  {
   "cell_type": "markdown",
   "metadata": {},
   "source": [
    "### Raleigh Sold price:\n",
    "### Raleigh Days on market:"
   ]
  },
  {
   "cell_type": "code",
   "execution_count": null,
   "metadata": {},
   "outputs": [],
   "source": [
    "display(raleigh_grouped_SP, raleigh_grouped_DOM)"
   ]
  },
  {
   "cell_type": "code",
   "execution_count": null,
   "metadata": {},
   "outputs": [],
   "source": [
    "display(fayetteville_grouped_SP, raleigh_grouped_DOM)"
   ]
  },
  {
   "cell_type": "markdown",
   "metadata": {},
   "source": [
    "### Creating filtered DataFrames for Raleigh & Fayetteville; removing unnecessary columns:"
   ]
  },
  {
   "cell_type": "code",
   "execution_count": null,
   "metadata": {},
   "outputs": [],
   "source": [
    "raleigh_grouped_3_2 = raleigh_grouped_all.loc[\n",
    "    (raleigh_grouped_all[\"Bedrooms\"] == 3.0) &\n",
    "    (raleigh_grouped_all[\"Total Baths\"] == 2.0)\n",
    "]\n",
    "raleigh_grouped_3_2 = raleigh_grouped_3_2[[\n",
    "    \"MLS #\", \"Property Type\", \"City\", \"Bedrooms\", \n",
    "    \"Total Baths\", \"Total Living Area SqFt\",\n",
    "    \"Year Built\", \"List Date\", \"Closing Date\",\n",
    "    \"Days On Market\", \"List Price\", \"Sold Price\", \"Acres min\", \"Acres max\",\n",
    "    \"Season Listed\", \"Season Sold\"\n",
    "    ]]\n",
    "\n",
    "to_drop = raleigh_grouped_3_2[raleigh_grouped_3_2[\"Property Type\"] == \"Duplex\"].index\n",
    "raleigh_grouped_3_2 = raleigh_grouped_3_2.drop(to_drop)\n",
    "raleigh_grouped_3_2\n",
    "\n",
    "\n",
    "single_family_residence_3_2 = raleigh_grouped_3_2.loc[raleigh_grouped_3_2['Property Type'] == 'Single Family Residence']\n",
    "single_family_residence_3_2\n",
    "\n",
    "##################################################################\n",
    "\n",
    "fayetteville_grouped_3_2 = fayetteville_grouped_all.loc[\n",
    "    (fayetteville_grouped_all[\"Bedrooms\"] == 3.0) &\n",
    "    (fayetteville_grouped_all[\"Total Baths\"] == 2.0)\n",
    "]\n",
    "fayetteville_grouped_3_2 = fayetteville_grouped_3_2[[\n",
    "    \"MLS #\", \"Property Type\", \"City\", \"Bedrooms\", \n",
    "    \"Total Baths\", \"Total Living Area SqFt\",\n",
    "    \"Year Built\", \"List Date\", \"Closing Date\",\n",
    "    \"Days On Market\", \"List Price\", \"Sold Price\", \"Acres min\", \"Acres max\",\n",
    "    \"Season Listed\", \"Season Sold\"\n",
    "    ]]\n",
    "\n",
    "to_drop = fayetteville_grouped_3_2[fayetteville_grouped_3_2[\"Property Type\"] == \"Duplex\"].index\n",
    "fayetteville_grouped_3_2 = fayetteville_grouped_3_2.drop(to_drop)\n",
    "fayetteville_grouped_3_2\n",
    "\n",
    "\n",
    "single_family_residence_3_2_fayetteville = fayetteville_grouped_3_2.loc[fayetteville_grouped_3_2['Property Type'] == 'Single Family Residence']\n",
    "single_family_residence_3_2_fayetteville\n"
   ]
  },
  {
   "cell_type": "code",
   "execution_count": null,
   "metadata": {},
   "outputs": [],
   "source": [
    "raleigh_grouped_3_2[\"Property Type\"].value_counts()"
   ]
  },
  {
   "cell_type": "code",
   "execution_count": null,
   "metadata": {},
   "outputs": [],
   "source": [
    "fayetteville_grouped_3_2[\"Property Type\"].value_counts()"
   ]
  },
  {
   "cell_type": "markdown",
   "metadata": {},
   "source": [
    "### Visualization of days on market per season listed"
   ]
  },
  {
   "cell_type": "markdown",
   "metadata": {},
   "source": [
    "##### \"DOM\" = Days on market\n",
    "##### \"SZN\" = Season"
   ]
  },
  {
   "cell_type": "code",
   "execution_count": null,
   "metadata": {},
   "outputs": [],
   "source": [
    "raleigh_DOM_SZN_grouped = raleigh_grouped_3_2.groupby(\"Season Listed\")[\"Days On Market\"].mean()\n",
    "raleigh_DOM_SZN_grouped\n",
    "plt.figure(figsize=(6, 8))\n",
    "plt.xlabel(\"Season Listed\")\n",
    "plt.ylabel(\"Average days on market\")\n",
    "plt.bar(raleigh_DOM_SZN_grouped.index, raleigh_DOM_SZN_grouped.values)\n",
    "plt.title(\"Raleigh NC Avg Days on market per season listed\")\n",
    "plt.show()\n"
   ]
  },
  {
   "cell_type": "code",
   "execution_count": null,
   "metadata": {},
   "outputs": [],
   "source": [
    "fayetteville_DOM_SZN_grouped = fayetteville_grouped_3_2.groupby(\"Season Listed\")[\"Days On Market\"].mean()\n",
    "fayetteville_DOM_SZN_grouped\n",
    "plt.figure(figsize=(6, 8))\n",
    "plt.xlabel(\"Season Listed\")\n",
    "plt.ylabel(\"Average days on market\")\n",
    "plt.bar(fayetteville_DOM_SZN_grouped.index, fayetteville_DOM_SZN_grouped.values)\n",
    "plt.title(\"Fayetteville NC Avg Days on market per season listed\")\n",
    "plt.show()"
   ]
  },
  {
   "cell_type": "markdown",
   "metadata": {},
   "source": [
    "### Visualization of Delta between List Price and sale price based on seasonality:"
   ]
  },
  {
   "cell_type": "markdown",
   "metadata": {},
   "source": [
    "##### Creating new column called \"Price Delta\":"
   ]
  },
  {
   "cell_type": "code",
   "execution_count": null,
   "metadata": {},
   "outputs": [],
   "source": [
    "raleigh_grouped_3_2[\"Price Delta\"] = raleigh_grouped_3_2[\"Sold Price\"] - raleigh_grouped_3_2[\"List Price\"]\n",
    "fayetteville_grouped_3_2[\"Price Delta\"] = fayetteville_grouped_3_2[\"Sold Price\"] - fayetteville_grouped_3_2[\"List Price\"]\n",
    "#raleigh_grouped_3_2"
   ]
  },
  {
   "cell_type": "markdown",
   "metadata": {},
   "source": [
    "#### Price delta per season bar chart:"
   ]
  },
  {
   "cell_type": "code",
   "execution_count": null,
   "metadata": {},
   "outputs": [],
   "source": [
    "raleigh_delta_SZN_grouped = raleigh_grouped_3_2.groupby(\"Season Listed\")[\"Price Delta\"].mean()\n",
    "plt.figure(figsize=(6, 8))\n",
    "plt.xlabel(\"Season Listed\")\n",
    "plt.ylabel(\"Price Delta\")\n",
    "plt.bar(raleigh_delta_SZN_grouped.index, raleigh_delta_SZN_grouped.values)\n",
    "plt.title(\"Raleigh NC Avg Price Delta per season listed\")\n",
    "plt.show()"
   ]
  },
  {
   "cell_type": "code",
   "execution_count": null,
   "metadata": {},
   "outputs": [],
   "source": [
    "fayetteville_delta_SZN_grouped = fayetteville_grouped_3_2.groupby(\"Season Listed\")[\"Price Delta\"].mean()\n",
    "plt.figure(figsize=(6, 8))\n",
    "plt.xlabel(\"Season Listed\")\n",
    "plt.ylabel(\"Price Delta\")\n",
    "plt.bar(fayetteville_delta_SZN_grouped.index, fayetteville_delta_SZN_grouped.values)\n",
    "plt.title(\"Fayetteville NC Avg Price Delta per season listed\")\n",
    "plt.show()"
   ]
  },
  {
   "cell_type": "markdown",
   "metadata": {},
   "source": [
    "# Analysis of Mortage rates and its effect on real estate sales \n",
    "\n",
    "#### Read the mortgage rate CSV file "
   ]
  },
  {
   "cell_type": "code",
   "execution_count": null,
   "metadata": {},
   "outputs": [],
   "source": [
    "# read all the mortage data from the CSV  File\n",
    "mortageweekly_df = pd.read_excel(\"../Real-Estate-Analysis-Project/Data/weekly_mortgage_rates.xlsx\",\n",
    "                                 index_col=\"Week\",\n",
    "                                 parse_dates=True\n",
    "                                 )\n",
    "mortageweekly_df.head()"
   ]
  },
  {
   "cell_type": "markdown",
   "metadata": {},
   "source": [
    "#### Clean up mortgage dataframe"
   ]
  },
  {
   "cell_type": "code",
   "execution_count": null,
   "metadata": {},
   "outputs": [],
   "source": [
    "# Get the morrtgage data from 2021 ro 2014 \n",
    "mortageweekly_df_sliced = mortageweekly_df.loc['2021-01-01':'2024-05-30']\n",
    "\n",
    "#drop unwanted columns\n",
    "mortageweekly_df_sliced.drop(columns=['30 years points','15 years FRM','15 years points','ARM','ARM points','margin','spread'],inplace=True)\n",
    "\n",
    "mortageweekly_df_sliced.plot(figsize=[10,5])"
   ]
  },
  {
   "cell_type": "code",
   "execution_count": null,
   "metadata": {},
   "outputs": [],
   "source": [
    "# add a column of week and year\n",
    "mortageweekly_df_sliced[\"week-year\"]  = mortageweekly_df_sliced.index.year.astype(str) + mortageweekly_df_sliced.index.isocalendar().week.astype(str)\n",
    "mortageweekly_df_sliced.head()"
   ]
  },
  {
   "cell_type": "markdown",
   "metadata": {},
   "source": [
    "#### Get single family homes real estate data "
   ]
  },
  {
   "cell_type": "code",
   "execution_count": null,
   "metadata": {},
   "outputs": [],
   "source": [
    "#single_family\n",
    "single_family_residence_3_2[\"week-year\"]  = single_family_residence_3_2['List Date'].dt.year.astype(str) + single_family_residence_3_2['List Date'].dt.isocalendar().week.astype(str)\n",
    "single_family_residence_3_2[\"Price Delta\"] = single_family_residence_3_2[\"Sold Price\"] - single_family_residence_3_2[\"List Price\"]\n",
    "single_family_residence_3_2.head() #162138 "
   ]
  },
  {
   "cell_type": "markdown",
   "metadata": {},
   "source": [
    "#### Merge morgage data and single family real esate data frame on week-year of list date "
   ]
  },
  {
   "cell_type": "code",
   "execution_count": null,
   "metadata": {},
   "outputs": [],
   "source": [
    "#merge mortageweekly_df_sliced and single_family_residence_3_2 on week year column\n",
    "realeastate_df  = pd.merge(mortageweekly_df_sliced,single_family_residence_3_2,on=\"week-year\",how=\"inner\")\n",
    "\n",
    "#Group by month and find average month data \n",
    "realeastate_monthly_df = realeastate_df.resample('M', on='List Date').agg({'Days On Market': ['mean'],\"30 Years FRM\":['mean'], \"Price Delta\":['mean']})\n",
    "\n",
    "realeastate_monthly_df.columns = ['Avg Days on Market', 'Avg Intereset Rate','Avg Price Delta']\n",
    "\n",
    "realeastate_monthly_df.head()\n",
    "\n"
   ]
  },
  {
   "cell_type": "markdown",
   "metadata": {},
   "source": [
    "### Visualize correlation between mortgage rate and the property days on market "
   ]
  },
  {
   "cell_type": "code",
   "execution_count": null,
   "metadata": {},
   "outputs": [],
   "source": [
    "\n",
    "#setting the fig size. \n",
    "fig, ax1 = plt.subplots(figsize=(12, 6))\n",
    "\n",
    "# bar chart that displays average days on market for property in a month.\n",
    "color = 'tab:blue'\n",
    "ax1.set_xlabel('List Date')\n",
    "ax1.set_ylabel('Days On Market', color=color)\n",
    "ax1.plot(realeastate_monthly_df.index, realeastate_monthly_df['Avg Days on Market'], color=color)\n",
    "ax1.tick_params(axis='y', labelcolor=color)\n",
    "ax1.set_title('Days On market and mortgage rate correlation')\n",
    "\n",
    "# twin axes for the average mortage rate in a month\n",
    "# telling the program that the axes will be plotted on the same graph. \n",
    "ax2 = ax1.twinx()  \n",
    "color = 'tab:red'\n",
    "ax2.set_ylabel('Avg Intereset Rate', color=color)\n",
    "ax2.plot(realeastate_monthly_df.index, realeastate_monthly_df['Avg Intereset Rate'], color=color, marker='o')\n",
    "ax2.tick_params(axis='y', labelcolor=color)\n",
    "\n",
    "\n",
    "#tightening the layout\n",
    "fig.tight_layout()  \n",
    "plt.show()\n"
   ]
  },
  {
   "cell_type": "markdown",
   "metadata": {},
   "source": [
    "### Visualize correlation between mortgage rate and delta between list price and sales price "
   ]
  },
  {
   "cell_type": "code",
   "execution_count": null,
   "metadata": {},
   "outputs": [],
   "source": [
    "\n",
    "\n",
    "#setting the fig size. had to play around a bit to find a good fit.\n",
    "fig, ax1 = plt.subplots(figsize=(12, 6))\n",
    "\n",
    "# bar chart that displays average delta between list price and sold price \n",
    "color = 'tab:blue'\n",
    "ax1.set_xlabel('List Date')\n",
    "ax1.set_ylabel('Avg Price Delta', color=color)\n",
    "ax1.plot(realeastate_monthly_df.index, realeastate_monthly_df['Avg Price Delta'], color=color)\n",
    "ax1.tick_params(axis='y', labelcolor=color)\n",
    "ax1.set_title('List Price - Sold price delta and mortgage rate correlation')\n",
    "\n",
    "\n",
    "# twin axes for the average mortage rate in a month\n",
    "# telling the program that the axes will be plotted on the same graph. \n",
    "ax2 = ax1.twinx()  \n",
    "color = 'tab:red'\n",
    "ax2.set_ylabel('Avg Intereset Rate', color=color)\n",
    "ax2.plot(realeastate_monthly_df.index, realeastate_monthly_df['Avg Intereset Rate'], color=color, marker='o')\n",
    "ax2.tick_params(axis='y', labelcolor=color)\n",
    "\n",
    "\n",
    "#tightening the layout\n",
    "fig.tight_layout()  \n",
    "plt.show()\n",
    "\n"
   ]
  }
 ],
 "metadata": {
  "kernelspec": {
   "display_name": "Python 3 (ipykernel)",
   "language": "python",
   "name": "python3"
  },
  "language_info": {
   "codemirror_mode": {
    "name": "ipython",
    "version": 3
   },
   "file_extension": ".py",
   "mimetype": "text/x-python",
   "name": "python",
   "nbconvert_exporter": "python",
   "pygments_lexer": "ipython3",
   "version": "3.11.5"
  },
  "varInspector": {
   "cols": {
    "lenName": 16,
    "lenType": 16,
    "lenVar": 40
   },
   "kernels_config": {
    "python": {
     "delete_cmd_postfix": "",
     "delete_cmd_prefix": "del ",
     "library": "var_list.py",
     "varRefreshCmd": "print(var_dic_list())"
    },
    "r": {
     "delete_cmd_postfix": ") ",
     "delete_cmd_prefix": "rm(",
     "library": "var_list.r",
     "varRefreshCmd": "cat(var_dic_list()) "
    }
   },
   "types_to_exclude": [
    "module",
    "function",
    "builtin_function_or_method",
    "instance",
    "_Feature"
   ],
   "window_display": false
  }
 },
 "nbformat": 4,
 "nbformat_minor": 2
}
